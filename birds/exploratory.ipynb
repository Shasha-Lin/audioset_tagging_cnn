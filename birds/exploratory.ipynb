{
 "cells": [
  {
   "cell_type": "code",
   "execution_count": 8,
   "metadata": {},
   "outputs": [
    {
     "name": "stdout",
     "output_type": "stream",
     "text": [
      "16099\n"
     ]
    }
   ],
   "source": [
    "val = '/Users/shasha.lin/audioset_tagging_cnn/birds/mini/val'\n",
    "import h5py\n",
    "with h5py.File(val, 'r') as hf:\n",
    "    audio_name = hf['audio_name']\n",
    "    wave_form = hf['waveform']\n",
    "    target = hf['target']\n",
    "    print(len(audio_name))"
   ]
  },
  {
   "cell_type": "code",
   "execution_count": 10,
   "metadata": {},
   "outputs": [],
   "source": [
    "import argparse"
   ]
  },
  {
   "cell_type": "code",
   "execution_count": 24,
   "metadata": {},
   "outputs": [],
   "source": [
    "parser = argparse.ArgumentParser(description='Example of parser. ')\n",
    "subparsers = parser.add_subparsers(dest='mode')\n",
    "\n",
    "parser_train = subparsers.add_parser('train') \n",
    "parser_train.add_argument('--workspace', type=str, default='/Users/shasha.lin/audio_tagging_cnn/mini/')\n",
    "# parser_train.add_argument('--data_type', type=str, default='full_train', choices=['balanced_train', 'full_train'])\n",
    "parser_train.add_argument('--window_size', type=int, default=1024)\n",
    "parser_train.add_argument('--data_type', type=str, default='mini', choices=['mini', 'full'])\n",
    "parser_train.add_argument('--hop_size', type=int, default=320)\n",
    "parser_train.add_argument('--mel_bins', type=int, default=64)\n",
    "parser_train.add_argument('--fmin', type=int, default=50)\n",
    "parser_train.add_argument('--fmax', type=int, default=14000) \n",
    "parser_train.add_argument('--model_type', type=str, default='Wavegram_Logmel_Cnn14')\n",
    "parser_train.add_argument('--load_pretrained', type=str)\n",
    "parser_train.add_argument('--loss_type', type=str, default='clip_bce', choices=['clip_bce'])\n",
    "parser_train.add_argument('--balanced', type=str, default='balanced', choices=['none', 'balanced', 'alternate'])\n",
    "parser_train.add_argument('--augmentation', type=str, default='mixup', choices=['none', 'mixup'])\n",
    "parser_train.add_argument('--batch_size', type=int, default=32)\n",
    "parser_train.add_argument('--learning_rate', type=float, default=1e-3)\n",
    "parser_train.add_argument('--resume_iteration', type=int, default=0)\n",
    "parser_train.add_argument('--early_stop', type=int, default=600000)\n",
    "parser_train.add_argument('--cuda', action='store_true', default=False)\n",
    "\n",
    "args = parser.parse_args(['train', '--load_pretrained', '/Users/shasha.lin/Downloads/Wavegram_Logmel_Cnn14_mAP=0.439.pth'])"
   ]
  },
  {
   "cell_type": "code",
   "execution_count": 25,
   "metadata": {},
   "outputs": [
    {
     "data": {
      "text/plain": [
       "'/Users/shasha.lin/Downloads/Wavegram_Logmel_Cnn14_mAP=0.439.pth'"
      ]
     },
     "execution_count": 25,
     "metadata": {},
     "output_type": "execute_result"
    }
   ],
   "source": [
    "args.load_pretrained"
   ]
  },
  {
   "cell_type": "code",
   "execution_count": 26,
   "metadata": {},
   "outputs": [
    {
     "ename": "ImportError",
     "evalue": "cannot import name 'Train' from 'torch' (/Users/shasha.lin/.pyenv/versions/3.7.2/envs/birds/lib/python3.7/site-packages/torch/__init__.py)",
     "output_type": "error",
     "traceback": [
      "\u001b[0;31m---------------------------------------------------------------------------\u001b[0m",
      "\u001b[0;31mImportError\u001b[0m                               Traceback (most recent call last)",
      "\u001b[0;32m<ipython-input-26-fc075cd5b5a8>\u001b[0m in \u001b[0;36m<module>\u001b[0;34m\u001b[0m\n\u001b[0;32m----> 1\u001b[0;31m \u001b[0;32mfrom\u001b[0m \u001b[0mtorch\u001b[0m \u001b[0;32mimport\u001b[0m \u001b[0mTrain\u001b[0m\u001b[0;34m\u001b[0m\u001b[0;34m\u001b[0m\u001b[0m\n\u001b[0m",
      "\u001b[0;31mImportError\u001b[0m: cannot import name 'Train' from 'torch' (/Users/shasha.lin/.pyenv/versions/3.7.2/envs/birds/lib/python3.7/site-packages/torch/__init__.py)"
     ]
    }
   ],
   "source": [
    "from torch import Train"
   ]
  },
  {
   "cell_type": "code",
   "execution_count": null,
   "metadata": {},
   "outputs": [],
   "source": []
  }
 ],
 "metadata": {
  "kernelspec": {
   "display_name": "Python 3",
   "language": "python",
   "name": "python3"
  },
  "language_info": {
   "codemirror_mode": {
    "name": "ipython",
    "version": 3
   },
   "file_extension": ".py",
   "mimetype": "text/x-python",
   "name": "python",
   "nbconvert_exporter": "python",
   "pygments_lexer": "ipython3",
   "version": "3.7.2"
  }
 },
 "nbformat": 4,
 "nbformat_minor": 4
}
